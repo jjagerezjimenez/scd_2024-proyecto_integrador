{
 "cells": [
  {
   "cell_type": "code",
   "execution_count": 3,
   "metadata": {},
   "outputs": [
    {
     "name": "stdout",
     "output_type": "stream",
     "text": [
      "Cantidad de errores: 11238717\n",
      "Total de bits analizados: 22510376\n",
      "BER: 0.499268\n"
     ]
    }
   ],
   "source": [
    "import numpy as np\n",
    "\n",
    "# Abre y lee los archivos binarios de transmisión y recepción\n",
    "with open('tx.bin', 'rb') as f:\n",
    "    datos_tx = np.fromfile(f, dtype=np.uint8)\n",
    "\n",
    "with open('rx.bin', 'rb') as f:\n",
    "    datos_rx = np.fromfile(f, dtype=np.uint8)\n",
    "\n",
    "# Alinea la longitud de los datos recibidos y transmitidos al mínimo\n",
    "longitud_minima = min(len(datos_tx), len(datos_rx))\n",
    "datos_tx = datos_tx[:longitud_minima]\n",
    "datos_rx = datos_rx[:longitud_minima]\n",
    "\n",
    "# Convierte los datos en bits\n",
    "bits_tx = np.unpackbits(datos_tx)\n",
    "bits_rx = np.unpackbits(datos_rx)\n",
    "\n",
    "# Calcula la cantidad total de bits erróneos\n",
    "errores = np.sum(bits_tx != bits_rx)\n",
    "\n",
    "# Calcula la BER (Bit Error Rate)\n",
    "ber = errores / len(bits_tx)\n",
    "\n",
    "# Imprime el resultado\n",
    "print(f'Cantidad de errores: {errores}')\n",
    "print(f'Total de bits analizados: {len(bits_tx)}')\n",
    "print(f'BER: {ber:.6f}')\n"
   ]
  }
 ],
 "metadata": {
  "kernelspec": {
   "display_name": "base",
   "language": "python",
   "name": "python3"
  },
  "language_info": {
   "codemirror_mode": {
    "name": "ipython",
    "version": 3
   },
   "file_extension": ".py",
   "mimetype": "text/x-python",
   "name": "python",
   "nbconvert_exporter": "python",
   "pygments_lexer": "ipython3",
   "version": "3.11.11"
  }
 },
 "nbformat": 4,
 "nbformat_minor": 2
}
